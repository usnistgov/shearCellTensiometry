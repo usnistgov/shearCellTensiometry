{
 "cells": [
  {
   "cell_type": "markdown",
   "id": "a3432ebc",
   "metadata": {},
   "source": [
    "# File handling tools"
   ]
  },
  {
   "cell_type": "code",
   "execution_count": 1,
   "id": "448a6271",
   "metadata": {},
   "outputs": [],
   "source": [
    "%load_ext autoreload\n",
    "%autoreload 2\n",
    "LOGGERDEFINED = False"
   ]
  },
  {
   "cell_type": "code",
   "execution_count": 2,
   "id": "2a4a9179",
   "metadata": {},
   "outputs": [],
   "source": [
    "import os\n",
    "import sys\n",
    "sys.path.append(\"../\")\n",
    "import py.fileHandling as fh\n",
    "from py.config import cfg\n",
    "import py.logs as logs\n",
    "import py.vidRead as vr\n",
    "import py.vidMorph as vm\n",
    "from py.imshow import imshow\n",
    "LOGGERDEFINED = logs.openLog('fileHandling.ipynb', LOGGERDEFINED, level='DEBUG', exportLog=False)"
   ]
  },
  {
   "cell_type": "code",
   "execution_count": 3,
   "id": "4fb2b394",
   "metadata": {},
   "outputs": [],
   "source": [
    "import cv2 as cv\n",
    "import numpy as np\n",
    "import imutils\n",
    "import random as rng"
   ]
  },
  {
   "cell_type": "code",
   "execution_count": 4,
   "id": "85495c2a",
   "metadata": {},
   "outputs": [],
   "source": [
    "t = fh.Test(os.path.join(cfg.path.vids, '210616 mineralS LapRDT', 'M4S_3.50T_p4'))"
   ]
  },
  {
   "cell_type": "code",
   "execution_count": 6,
   "id": "e3a36abc",
   "metadata": {},
   "outputs": [
    {
     "name": "stdout",
     "output_type": "stream",
     "text": [
      "Droplet: {'base': 'mineral oil', 'rheModifier': 'fumed silica', 'surfactant': 'Span 20', 'rheWt': 4.0}\n",
      "Matrix: {'base': 'water', 'rheModifier': 'Laponite RD', 'surfactant': 'Tween 80', 'rheWt': 3.5}\n",
      "Profile:     mode  gap strain rate freq direction time\n",
      "0   stdy  500    n/a    1  n/a        cw    8\n",
      "1   stdy  500    n/a    2  n/a       acw    6\n",
      "2   stdy  500    n/a    3  n/a        cw    4\n",
      "3   stdy  500    n/a    4  n/a       acw    3\n",
      "4   stdy  500    n/a    5  n/a        cw    2\n",
      "5   stdy  500    n/a    6  n/a       acw    2\n",
      "6   stdy  500    n/a    8  n/a        cw    2\n",
      "7   stdy  500    n/a   10  n/a       acw    2\n",
      "8   stdy  500    n/a   12  n/a        cw    2\n",
      "9   stdy  500    n/a   16  n/a       acw    1\n",
      "10  stdy  500    n/a   20  n/a        cw    1\n",
      "11  stdy  500    n/a   30  n/a       acw    1\n",
      "12  stdy  500    n/a   40  n/a        cw    1\n",
      "13  stdy  500    n/a   50  n/a       acw    1\n",
      "Videos: ['Basler acA2040-90uc (21726010)_20210616_141619152.mp4', 'Basler acA2040-90uc (21726010)_20210616_141712851.mp4', 'Basler acA2040-90uc (21726010)_20210616_141814458.mp4', 'Basler acA2040-90uc (21726010)_20210616_141907985.mp4', 'Basler acA2040-90uc (21726010)_20210616_141958435.mp4', 'Basler acA2040-90uc (21726010)_20210616_142053722.mp4', 'Basler acA2040-90uc (21726010)_20210616_142141358.mp4', 'Basler acA2040-90uc (21726010)_20210616_142239077.mp4', 'Basler acA2040-90uc (21726010)_20210616_142329746.mp4', 'Basler acA2040-90uc (21726010)_20210616_142415664.mp4', 'Basler acA2040-90uc (21726010)_20210616_142505791.mp4', 'Basler acA2040-90uc (21726010)_20210616_142558513.mp4', 'Basler acA2040-90uc (21726010)_20210616_142704753.mp4', 'Basler acA2040-90uc (21726010)_20210616_142801278.mp4']\n"
     ]
    }
   ],
   "source": [
    "t.prnt()"
   ]
  },
  {
   "cell_type": "code",
   "execution_count": 5,
   "id": "80fd7dd9",
   "metadata": {},
   "outputs": [],
   "source": [
    "vi = vr.vidInfo(t.videos[1])"
   ]
  },
  {
   "cell_type": "code",
   "execution_count": 220,
   "id": "565f0075",
   "metadata": {},
   "outputs": [
    {
     "name": "stdout",
     "output_type": "stream",
     "text": [
      "INFO: Analyzing frame 1\n",
      "INFO: Analyzing frame 101\n",
      "INFO: Analyzing frame 201\n",
      "INFO: Analyzing frame 301\n",
      "INFO: Analyzing frame 401\n",
      "INFO: Analyzing frame 501\n",
      "INFO: Analyzing frame 601\n",
      "INFO: Analyzing frame 701\n",
      "INFO: Analyzing frame 801\n",
      "INFO: Analyzing frame 901\n",
      "INFO: Analyzing frame 1001\n",
      "INFO: Analyzing frame 1101\n"
     ]
    },
    {
     "data": {
      "text/html": [
       "<div>\n",
       "<style scoped>\n",
       "    .dataframe tbody tr th:only-of-type {\n",
       "        vertical-align: middle;\n",
       "    }\n",
       "\n",
       "    .dataframe tbody tr th {\n",
       "        vertical-align: top;\n",
       "    }\n",
       "\n",
       "    .dataframe thead th {\n",
       "        text-align: right;\n",
       "    }\n",
       "</style>\n",
       "<table border=\"1\" class=\"dataframe\">\n",
       "  <thead>\n",
       "    <tr style=\"text-align: right;\">\n",
       "      <th></th>\n",
       "      <th>frame</th>\n",
       "      <th>time</th>\n",
       "      <th>dropNum</th>\n",
       "      <th>x</th>\n",
       "      <th>y</th>\n",
       "      <th>dpos</th>\n",
       "      <th>v</th>\n",
       "      <th>w</th>\n",
       "      <th>l</th>\n",
       "      <th>angle</th>\n",
       "    </tr>\n",
       "  </thead>\n",
       "  <tbody>\n",
       "    <tr>\n",
       "      <th>0</th>\n",
       "      <td>1.0</td>\n",
       "      <td>0.02</td>\n",
       "      <td>0</td>\n",
       "      <td>695.171387</td>\n",
       "      <td>283.058929</td>\n",
       "      <td>0</td>\n",
       "      <td>0</td>\n",
       "      <td>142.075867</td>\n",
       "      <td>180.763458</td>\n",
       "      <td>170.718811</td>\n",
       "    </tr>\n",
       "    <tr>\n",
       "      <th>1</th>\n",
       "      <td>2.0</td>\n",
       "      <td>0.04</td>\n",
       "      <td>0</td>\n",
       "      <td>695.229736</td>\n",
       "      <td>283.092163</td>\n",
       "      <td>0.0671502</td>\n",
       "      <td>3.35751</td>\n",
       "      <td>142.037567</td>\n",
       "      <td>180.616379</td>\n",
       "      <td>170.802322</td>\n",
       "    </tr>\n",
       "    <tr>\n",
       "      <th>2</th>\n",
       "      <td>3.0</td>\n",
       "      <td>0.06</td>\n",
       "      <td>0</td>\n",
       "      <td>695.186096</td>\n",
       "      <td>283.103821</td>\n",
       "      <td>0.0451704</td>\n",
       "      <td>2.25852</td>\n",
       "      <td>142.039795</td>\n",
       "      <td>180.440109</td>\n",
       "      <td>170.738113</td>\n",
       "    </tr>\n",
       "    <tr>\n",
       "      <th>3</th>\n",
       "      <td>4.0</td>\n",
       "      <td>0.08</td>\n",
       "      <td>0</td>\n",
       "      <td>695.128662</td>\n",
       "      <td>283.044830</td>\n",
       "      <td>-0.082332</td>\n",
       "      <td>-4.1166</td>\n",
       "      <td>142.097931</td>\n",
       "      <td>180.149475</td>\n",
       "      <td>170.714401</td>\n",
       "    </tr>\n",
       "    <tr>\n",
       "      <th>4</th>\n",
       "      <td>5.0</td>\n",
       "      <td>0.10</td>\n",
       "      <td>0</td>\n",
       "      <td>695.156555</td>\n",
       "      <td>283.037598</td>\n",
       "      <td>-0.0288155</td>\n",
       "      <td>-1.44078</td>\n",
       "      <td>142.103699</td>\n",
       "      <td>179.966110</td>\n",
       "      <td>170.780701</td>\n",
       "    </tr>\n",
       "    <tr>\n",
       "      <th>...</th>\n",
       "      <td>...</td>\n",
       "      <td>...</td>\n",
       "      <td>...</td>\n",
       "      <td>...</td>\n",
       "      <td>...</td>\n",
       "      <td>...</td>\n",
       "      <td>...</td>\n",
       "      <td>...</td>\n",
       "      <td>...</td>\n",
       "      <td>...</td>\n",
       "    </tr>\n",
       "    <tr>\n",
       "      <th>792</th>\n",
       "      <td>1060.0</td>\n",
       "      <td>21.20</td>\n",
       "      <td>19</td>\n",
       "      <td>834.426025</td>\n",
       "      <td>903.558472</td>\n",
       "      <td>-173.192</td>\n",
       "      <td>-8659.59</td>\n",
       "      <td>81.532928</td>\n",
       "      <td>108.825516</td>\n",
       "      <td>3.180353</td>\n",
       "    </tr>\n",
       "    <tr>\n",
       "      <th>793</th>\n",
       "      <td>1061.0</td>\n",
       "      <td>21.22</td>\n",
       "      <td>19</td>\n",
       "      <td>828.482910</td>\n",
       "      <td>727.884094</td>\n",
       "      <td>-175.775</td>\n",
       "      <td>-8788.74</td>\n",
       "      <td>79.735794</td>\n",
       "      <td>107.687126</td>\n",
       "      <td>175.955460</td>\n",
       "    </tr>\n",
       "    <tr>\n",
       "      <th>794</th>\n",
       "      <td>1062.0</td>\n",
       "      <td>21.24</td>\n",
       "      <td>19</td>\n",
       "      <td>815.008667</td>\n",
       "      <td>553.108704</td>\n",
       "      <td>-175.294</td>\n",
       "      <td>-8764.7</td>\n",
       "      <td>79.850609</td>\n",
       "      <td>107.526505</td>\n",
       "      <td>173.222305</td>\n",
       "    </tr>\n",
       "    <tr>\n",
       "      <th>795</th>\n",
       "      <td>1063.0</td>\n",
       "      <td>21.26</td>\n",
       "      <td>19</td>\n",
       "      <td>792.498840</td>\n",
       "      <td>376.704620</td>\n",
       "      <td>-177.834</td>\n",
       "      <td>-8891.72</td>\n",
       "      <td>80.008804</td>\n",
       "      <td>107.054138</td>\n",
       "      <td>170.428741</td>\n",
       "    </tr>\n",
       "    <tr>\n",
       "      <th>796</th>\n",
       "      <td>1064.0</td>\n",
       "      <td>21.28</td>\n",
       "      <td>19</td>\n",
       "      <td>762.031311</td>\n",
       "      <td>199.569794</td>\n",
       "      <td>-179.736</td>\n",
       "      <td>-8986.8</td>\n",
       "      <td>80.878311</td>\n",
       "      <td>107.579628</td>\n",
       "      <td>168.015106</td>\n",
       "    </tr>\n",
       "  </tbody>\n",
       "</table>\n",
       "<p>797 rows × 10 columns</p>\n",
       "</div>"
      ],
      "text/plain": [
       "      frame   time dropNum           x           y       dpos        v  \\\n",
       "0       1.0   0.02       0  695.171387  283.058929          0        0   \n",
       "1       2.0   0.04       0  695.229736  283.092163  0.0671502  3.35751   \n",
       "2       3.0   0.06       0  695.186096  283.103821  0.0451704  2.25852   \n",
       "3       4.0   0.08       0  695.128662  283.044830  -0.082332  -4.1166   \n",
       "4       5.0   0.10       0  695.156555  283.037598 -0.0288155 -1.44078   \n",
       "..      ...    ...     ...         ...         ...        ...      ...   \n",
       "792  1060.0  21.20      19  834.426025  903.558472   -173.192 -8659.59   \n",
       "793  1061.0  21.22      19  828.482910  727.884094   -175.775 -8788.74   \n",
       "794  1062.0  21.24      19  815.008667  553.108704   -175.294  -8764.7   \n",
       "795  1063.0  21.26      19  792.498840  376.704620   -177.834 -8891.72   \n",
       "796  1064.0  21.28      19  762.031311  199.569794   -179.736  -8986.8   \n",
       "\n",
       "              w           l       angle  \n",
       "0    142.075867  180.763458  170.718811  \n",
       "1    142.037567  180.616379  170.802322  \n",
       "2    142.039795  180.440109  170.738113  \n",
       "3    142.097931  180.149475  170.714401  \n",
       "4    142.103699  179.966110  170.780701  \n",
       "..          ...         ...         ...  \n",
       "792   81.532928  108.825516    3.180353  \n",
       "793   79.735794  107.687126  175.955460  \n",
       "794   79.850609  107.526505  173.222305  \n",
       "795   80.008804  107.054138  170.428741  \n",
       "796   80.878311  107.579628  168.015106  \n",
       "\n",
       "[797 rows x 10 columns]"
      ]
     },
     "execution_count": 220,
     "metadata": {},
     "output_type": "execute_result"
    }
   ],
   "source": [
    "vi.readFrames(startFrame=0, reportFreq=100)\n",
    "vi.dropletTab"
   ]
  },
  {
   "cell_type": "code",
   "execution_count": 7,
   "id": "244a9afa",
   "metadata": {},
   "outputs": [],
   "source": [
    "import matplotlib.pyplot as plt\n",
    "import seaborn as sns"
   ]
  },
  {
   "cell_type": "code",
   "execution_count": 8,
   "id": "7a8ad4bf",
   "metadata": {},
   "outputs": [],
   "source": [
    "def cubehelix1(val:float):\n",
    "    '''val should be 0-1. returns a color'''\n",
    "    cm = sns.cubehelix_palette(as_cmap=True, rot=-0.4)\n",
    "    return cm(val)"
   ]
  },
  {
   "cell_type": "code",
   "execution_count": 306,
   "id": "8bb23a4e",
   "metadata": {},
   "outputs": [
    {
     "data": {
      "text/plain": [
       "array([0, 3, 6, 10, 11.0, 16.0, 17.0], dtype=object)"
      ]
     },
     "execution_count": 306,
     "metadata": {},
     "output_type": "execute_result"
    }
   ],
   "source": [
    "vi.relabeledDroplets.dropNum.unique()"
   ]
  },
  {
   "cell_type": "code",
   "execution_count": 307,
   "id": "9e3f703c",
   "metadata": {},
   "outputs": [
    {
     "data": {
      "image/png": "[encoded data removed]",
      "text/plain": [
       "<Figure size 432x288 with 4 Axes>"
      ]
     },
     "metadata": {
      "needs_background": "light"
     },
     "output_type": "display_data"
    }
   ],
   "source": [
    "vi.consolidateDroplets()\n",
    "fig, axs = plt.subplots(4,1, sharex=True)\n",
    "axs[0].set_ylabel('width')\n",
    "axs[1].set_ylabel('length')\n",
    "axs[2].set_ylabel('y')\n",
    "axs[3].set_ylabel('velocity')\n",
    "axs[3].set_xlabel('time')\n",
    "\n",
    "for n in vi.relabeledDroplets.dropNum.unique():\n",
    "    color = cubehelix1(n/8)\n",
    "    d0 = vi.relabeledDroplets[vi.relabeledDroplets['dropNum']==n]\n",
    "    d0 = d0[(d0['v']>0)|(d0['v']<0)]\n",
    "    d0 = d0[d0['time']>0]\n",
    "    d1 = vr.removeOutliers(d0, 'w')\n",
    "    d1 = vr.removeOutliers(d0, 'v')\n",
    "    axs[0].scatter(d1['time'],d1['w'], label=n)\n",
    "    axs[1].scatter(d1['time'], d1['l'], label=n)\n",
    "    axs[2].scatter(d1['time'], d1['y'], label=n)\n",
    "    axs[3].scatter(d1['time'], d1['v'], label=n)"
   ]
  },
  {
   "cell_type": "code",
   "execution_count": 298,
   "id": "7fbb85cc",
   "metadata": {},
   "outputs": [
    {
     "data": {
      "text/plain": [
       "<matplotlib.legend.Legend at 0x1c8bd2d4e08>"
      ]
     },
     "execution_count": 298,
     "metadata": {},
     "output_type": "execute_result"
    },
    {
     "data": {
      "image/png": "[encoded data removed]",
      "text/plain": [
       "<Figure size 432x288 with 4 Axes>"
      ]
     },
     "metadata": {
      "needs_background": "light"
     },
     "output_type": "display_data"
    }
   ],
   "source": [
    "fig, axs = plt.subplots(4,1, sharex=True)\n",
    "axs[0].set_ylabel('width')\n",
    "axs[1].set_ylabel('length')\n",
    "axs[2].set_ylabel('y')\n",
    "axs[3].set_ylabel('velocity')\n",
    "axs[3].set_xlabel('time')\n",
    "\n",
    "for n in vi.dropletTab['dropNum'].unique():\n",
    "    color = cubehelix1(n/8)\n",
    "    d0 = vi.dropletTab[vi.dropletTab['dropNum']==n]\n",
    "    d0 = d0[(d0['v']>0)|(d0['v']<0)]\n",
    "    d0 = d0[d0['time']>19]\n",
    "    d1 = vr.removeOutliers(d0, 'w')\n",
    "    d1 = vr.removeOutliers(d0, 'v')\n",
    "    axs[0].plot(d1['time'],d1['w'], label=n)\n",
    "    axs[1].plot(d1['time'], d1['l'], label=n)\n",
    "    axs[2].plot(d1['time'], d1['y'], label=n)\n",
    "    axs[3].plot(d1['time'], d1['v'], label=n)\n",
    "axs[3].legend(bbox_to_anchor=(1.05, 0), loc='lower left')"
   ]
  },
  {
   "cell_type": "code",
   "execution_count": 225,
   "id": "bab89cdc",
   "metadata": {},
   "outputs": [
    {
     "data": {
      "text/html": [
       "<div>\n",
       "<style scoped>\n",
       "    .dataframe tbody tr th:only-of-type {\n",
       "        vertical-align: middle;\n",
       "    }\n",
       "\n",
       "    .dataframe tbody tr th {\n",
       "        vertical-align: top;\n",
       "    }\n",
       "\n",
       "    .dataframe thead th {\n",
       "        text-align: right;\n",
       "    }\n",
       "</style>\n",
       "<table border=\"1\" class=\"dataframe\">\n",
       "  <thead>\n",
       "    <tr style=\"text-align: right;\">\n",
       "      <th></th>\n",
       "      <th>frame</th>\n",
       "      <th>time</th>\n",
       "      <th>dropNum</th>\n",
       "      <th>x</th>\n",
       "      <th>y</th>\n",
       "      <th>dpos</th>\n",
       "      <th>v</th>\n",
       "      <th>w</th>\n",
       "      <th>l</th>\n",
       "      <th>angle</th>\n",
       "    </tr>\n",
       "  </thead>\n",
       "  <tbody>\n",
       "    <tr>\n",
       "      <th>701</th>\n",
       "      <td>962.0</td>\n",
       "      <td>19.24</td>\n",
       "      <td>10</td>\n",
       "      <td>508.473053</td>\n",
       "      <td>224.926376</td>\n",
       "      <td>0</td>\n",
       "      <td>0</td>\n",
       "      <td>68.628769</td>\n",
       "      <td>81.904335</td>\n",
       "      <td>169.838013</td>\n",
       "    </tr>\n",
       "    <tr>\n",
       "      <th>702</th>\n",
       "      <td>963.0</td>\n",
       "      <td>19.26</td>\n",
       "      <td>10</td>\n",
       "      <td>520.219299</td>\n",
       "      <td>294.899017</td>\n",
       "      <td>70.9517</td>\n",
       "      <td>3547.59</td>\n",
       "      <td>68.373039</td>\n",
       "      <td>81.443436</td>\n",
       "      <td>171.606506</td>\n",
       "    </tr>\n",
       "    <tr>\n",
       "      <th>703</th>\n",
       "      <td>964.0</td>\n",
       "      <td>19.28</td>\n",
       "      <td>10</td>\n",
       "      <td>531.832397</td>\n",
       "      <td>366.327667</td>\n",
       "      <td>72.3665</td>\n",
       "      <td>3618.33</td>\n",
       "      <td>68.296768</td>\n",
       "      <td>81.191185</td>\n",
       "      <td>173.027084</td>\n",
       "    </tr>\n",
       "    <tr>\n",
       "      <th>704</th>\n",
       "      <td>965.0</td>\n",
       "      <td>19.30</td>\n",
       "      <td>10</td>\n",
       "      <td>534.996338</td>\n",
       "      <td>392.558533</td>\n",
       "      <td>26.421</td>\n",
       "      <td>1321.05</td>\n",
       "      <td>69.046028</td>\n",
       "      <td>76.690323</td>\n",
       "      <td>172.793869</td>\n",
       "    </tr>\n",
       "    <tr>\n",
       "      <th>705</th>\n",
       "      <td>965.0</td>\n",
       "      <td>19.30</td>\n",
       "      <td>11</td>\n",
       "      <td>416.379120</td>\n",
       "      <td>209.098114</td>\n",
       "      <td>0</td>\n",
       "      <td>0</td>\n",
       "      <td>75.647957</td>\n",
       "      <td>86.856880</td>\n",
       "      <td>168.347321</td>\n",
       "    </tr>\n",
       "    <tr>\n",
       "      <th>706</th>\n",
       "      <td>966.0</td>\n",
       "      <td>19.32</td>\n",
       "      <td>10</td>\n",
       "      <td>535.040405</td>\n",
       "      <td>393.197968</td>\n",
       "      <td>0.640951</td>\n",
       "      <td>32.0476</td>\n",
       "      <td>69.068932</td>\n",
       "      <td>75.304665</td>\n",
       "      <td>172.537308</td>\n",
       "    </tr>\n",
       "    <tr>\n",
       "      <th>707</th>\n",
       "      <td>966.0</td>\n",
       "      <td>19.32</td>\n",
       "      <td>11</td>\n",
       "      <td>416.422577</td>\n",
       "      <td>209.591507</td>\n",
       "      <td>0.495303</td>\n",
       "      <td>24.7652</td>\n",
       "      <td>75.940063</td>\n",
       "      <td>84.896416</td>\n",
       "      <td>167.823227</td>\n",
       "    </tr>\n",
       "    <tr>\n",
       "      <th>708</th>\n",
       "      <td>967.0</td>\n",
       "      <td>19.34</td>\n",
       "      <td>10</td>\n",
       "      <td>534.964661</td>\n",
       "      <td>393.481995</td>\n",
       "      <td>0.293953</td>\n",
       "      <td>14.6977</td>\n",
       "      <td>69.333611</td>\n",
       "      <td>74.641830</td>\n",
       "      <td>172.573349</td>\n",
       "    </tr>\n",
       "    <tr>\n",
       "      <th>709</th>\n",
       "      <td>967.0</td>\n",
       "      <td>19.34</td>\n",
       "      <td>11</td>\n",
       "      <td>416.421967</td>\n",
       "      <td>209.938583</td>\n",
       "      <td>0.347077</td>\n",
       "      <td>17.3538</td>\n",
       "      <td>76.098091</td>\n",
       "      <td>83.866783</td>\n",
       "      <td>167.339371</td>\n",
       "    </tr>\n",
       "    <tr>\n",
       "      <th>710</th>\n",
       "      <td>968.0</td>\n",
       "      <td>19.36</td>\n",
       "      <td>10</td>\n",
       "      <td>534.891724</td>\n",
       "      <td>393.672852</td>\n",
       "      <td>0.204319</td>\n",
       "      <td>10.2159</td>\n",
       "      <td>69.320251</td>\n",
       "      <td>74.304016</td>\n",
       "      <td>171.879349</td>\n",
       "    </tr>\n",
       "    <tr>\n",
       "      <th>711</th>\n",
       "      <td>968.0</td>\n",
       "      <td>19.36</td>\n",
       "      <td>11</td>\n",
       "      <td>416.300903</td>\n",
       "      <td>210.125778</td>\n",
       "      <td>0.222931</td>\n",
       "      <td>11.1465</td>\n",
       "      <td>76.184685</td>\n",
       "      <td>83.564560</td>\n",
       "      <td>167.108765</td>\n",
       "    </tr>\n",
       "    <tr>\n",
       "      <th>712</th>\n",
       "      <td>969.0</td>\n",
       "      <td>19.38</td>\n",
       "      <td>10</td>\n",
       "      <td>534.878540</td>\n",
       "      <td>393.830414</td>\n",
       "      <td>0.158113</td>\n",
       "      <td>7.90564</td>\n",
       "      <td>69.278145</td>\n",
       "      <td>74.030235</td>\n",
       "      <td>171.825272</td>\n",
       "    </tr>\n",
       "    <tr>\n",
       "      <th>713</th>\n",
       "      <td>969.0</td>\n",
       "      <td>19.38</td>\n",
       "      <td>11</td>\n",
       "      <td>416.314911</td>\n",
       "      <td>210.213730</td>\n",
       "      <td>0.0890601</td>\n",
       "      <td>4.45301</td>\n",
       "      <td>76.274536</td>\n",
       "      <td>82.986549</td>\n",
       "      <td>167.409729</td>\n",
       "    </tr>\n",
       "    <tr>\n",
       "      <th>714</th>\n",
       "      <td>970.0</td>\n",
       "      <td>19.40</td>\n",
       "      <td>10</td>\n",
       "      <td>534.902283</td>\n",
       "      <td>393.935852</td>\n",
       "      <td>0.108078</td>\n",
       "      <td>5.40392</td>\n",
       "      <td>69.351051</td>\n",
       "      <td>73.688744</td>\n",
       "      <td>171.812180</td>\n",
       "    </tr>\n",
       "    <tr>\n",
       "      <th>715</th>\n",
       "      <td>970.0</td>\n",
       "      <td>19.40</td>\n",
       "      <td>11</td>\n",
       "      <td>416.348206</td>\n",
       "      <td>210.194962</td>\n",
       "      <td>-0.0382202</td>\n",
       "      <td>-1.91101</td>\n",
       "      <td>76.321060</td>\n",
       "      <td>82.691902</td>\n",
       "      <td>167.524841</td>\n",
       "    </tr>\n",
       "    <tr>\n",
       "      <th>716</th>\n",
       "      <td>971.0</td>\n",
       "      <td>19.42</td>\n",
       "      <td>10</td>\n",
       "      <td>534.871887</td>\n",
       "      <td>394.005249</td>\n",
       "      <td>0.0757616</td>\n",
       "      <td>3.78808</td>\n",
       "      <td>69.422844</td>\n",
       "      <td>73.616333</td>\n",
       "      <td>172.095566</td>\n",
       "    </tr>\n",
       "    <tr>\n",
       "      <th>717</th>\n",
       "      <td>971.0</td>\n",
       "      <td>19.42</td>\n",
       "      <td>11</td>\n",
       "      <td>416.263702</td>\n",
       "      <td>210.354904</td>\n",
       "      <td>0.180893</td>\n",
       "      <td>9.04467</td>\n",
       "      <td>76.431473</td>\n",
       "      <td>82.346336</td>\n",
       "      <td>166.538666</td>\n",
       "    </tr>\n",
       "    <tr>\n",
       "      <th>718</th>\n",
       "      <td>972.0</td>\n",
       "      <td>19.44</td>\n",
       "      <td>10</td>\n",
       "      <td>534.834595</td>\n",
       "      <td>394.036560</td>\n",
       "      <td>0.048694</td>\n",
       "      <td>2.4347</td>\n",
       "      <td>69.391457</td>\n",
       "      <td>73.627609</td>\n",
       "      <td>172.258636</td>\n",
       "    </tr>\n",
       "    <tr>\n",
       "      <th>719</th>\n",
       "      <td>972.0</td>\n",
       "      <td>19.44</td>\n",
       "      <td>11</td>\n",
       "      <td>416.229614</td>\n",
       "      <td>210.365265</td>\n",
       "      <td>0.0356279</td>\n",
       "      <td>1.78139</td>\n",
       "      <td>76.392265</td>\n",
       "      <td>82.255424</td>\n",
       "      <td>167.111069</td>\n",
       "    </tr>\n",
       "    <tr>\n",
       "      <th>720</th>\n",
       "      <td>973.0</td>\n",
       "      <td>19.46</td>\n",
       "      <td>10</td>\n",
       "      <td>534.805664</td>\n",
       "      <td>394.064392</td>\n",
       "      <td>0.0401448</td>\n",
       "      <td>2.00724</td>\n",
       "      <td>69.467278</td>\n",
       "      <td>73.539551</td>\n",
       "      <td>172.501678</td>\n",
       "    </tr>\n",
       "    <tr>\n",
       "      <th>721</th>\n",
       "      <td>973.0</td>\n",
       "      <td>19.46</td>\n",
       "      <td>11</td>\n",
       "      <td>416.163910</td>\n",
       "      <td>210.418533</td>\n",
       "      <td>0.0845848</td>\n",
       "      <td>4.22924</td>\n",
       "      <td>76.404121</td>\n",
       "      <td>82.215469</td>\n",
       "      <td>167.034500</td>\n",
       "    </tr>\n",
       "    <tr>\n",
       "      <th>722</th>\n",
       "      <td>974.0</td>\n",
       "      <td>19.48</td>\n",
       "      <td>10</td>\n",
       "      <td>522.075256</td>\n",
       "      <td>316.633911</td>\n",
       "      <td>-78.47</td>\n",
       "      <td>-3923.5</td>\n",
       "      <td>68.918732</td>\n",
       "      <td>79.529327</td>\n",
       "      <td>168.781448</td>\n",
       "    </tr>\n",
       "  </tbody>\n",
       "</table>\n",
       "</div>"
      ],
      "text/plain": [
       "     frame   time dropNum           x           y       dpos        v  \\\n",
       "701  962.0  19.24      10  508.473053  224.926376          0        0   \n",
       "702  963.0  19.26      10  520.219299  294.899017    70.9517  3547.59   \n",
       "703  964.0  19.28      10  531.832397  366.327667    72.3665  3618.33   \n",
       "704  965.0  19.30      10  534.996338  392.558533     26.421  1321.05   \n",
       "705  965.0  19.30      11  416.379120  209.098114          0        0   \n",
       "706  966.0  19.32      10  535.040405  393.197968   0.640951  32.0476   \n",
       "707  966.0  19.32      11  416.422577  209.591507   0.495303  24.7652   \n",
       "708  967.0  19.34      10  534.964661  393.481995   0.293953  14.6977   \n",
       "709  967.0  19.34      11  416.421967  209.938583   0.347077  17.3538   \n",
       "710  968.0  19.36      10  534.891724  393.672852   0.204319  10.2159   \n",
       "711  968.0  19.36      11  416.300903  210.125778   0.222931  11.1465   \n",
       "712  969.0  19.38      10  534.878540  393.830414   0.158113  7.90564   \n",
       "713  969.0  19.38      11  416.314911  210.213730  0.0890601  4.45301   \n",
       "714  970.0  19.40      10  534.902283  393.935852   0.108078  5.40392   \n",
       "715  970.0  19.40      11  416.348206  210.194962 -0.0382202 -1.91101   \n",
       "716  971.0  19.42      10  534.871887  394.005249  0.0757616  3.78808   \n",
       "717  971.0  19.42      11  416.263702  210.354904   0.180893  9.04467   \n",
       "718  972.0  19.44      10  534.834595  394.036560   0.048694   2.4347   \n",
       "719  972.0  19.44      11  416.229614  210.365265  0.0356279  1.78139   \n",
       "720  973.0  19.46      10  534.805664  394.064392  0.0401448  2.00724   \n",
       "721  973.0  19.46      11  416.163910  210.418533  0.0845848  4.22924   \n",
       "722  974.0  19.48      10  522.075256  316.633911     -78.47  -3923.5   \n",
       "\n",
       "             w          l       angle  \n",
       "701  68.628769  81.904335  169.838013  \n",
       "702  68.373039  81.443436  171.606506  \n",
       "703  68.296768  81.191185  173.027084  \n",
       "704  69.046028  76.690323  172.793869  \n",
       "705  75.647957  86.856880  168.347321  \n",
       "706  69.068932  75.304665  172.537308  \n",
       "707  75.940063  84.896416  167.823227  \n",
       "708  69.333611  74.641830  172.573349  \n",
       "709  76.098091  83.866783  167.339371  \n",
       "710  69.320251  74.304016  171.879349  \n",
       "711  76.184685  83.564560  167.108765  \n",
       "712  69.278145  74.030235  171.825272  \n",
       "713  76.274536  82.986549  167.409729  \n",
       "714  69.351051  73.688744  171.812180  \n",
       "715  76.321060  82.691902  167.524841  \n",
       "716  69.422844  73.616333  172.095566  \n",
       "717  76.431473  82.346336  166.538666  \n",
       "718  69.391457  73.627609  172.258636  \n",
       "719  76.392265  82.255424  167.111069  \n",
       "720  69.467278  73.539551  172.501678  \n",
       "721  76.404121  82.215469  167.034500  \n",
       "722  68.918732  79.529327  168.781448  "
      ]
     },
     "execution_count": 225,
     "metadata": {},
     "output_type": "execute_result"
    }
   ],
   "source": [
    "d0 = vi.dropletTab\n",
    "# d0[(d0['frame']>1030)&(d0['frame']<1039)]\n",
    "d0[(d0['time']>19.2)&(d0['time']<19.5)]"
   ]
  },
  {
   "cell_type": "code",
   "execution_count": 228,
   "id": "cedfd4e6",
   "metadata": {},
   "outputs": [
    {
     "data": {
      "text/plain": [
       "[((534.8917236328125, 393.6728515625),\n",
       "  (69.32025146484375, 74.30401611328125),\n",
       "  171.8793487548828),\n",
       " ((416.3009033203125, 210.1257781982422),\n",
       "  (76.18468475341797, 83.56455993652344),\n",
       "  167.1087646484375)]"
      ]
     },
     "execution_count": 228,
     "metadata": {},
     "output_type": "execute_result"
    },
    {
     "data": {
      "image/png": "[encoded data removed]",
      "text/plain": [
       "<Figure size 720x2160 with 3 Axes>"
      ]
     },
     "metadata": {
      "needs_background": "light"
     },
     "output_type": "display_data"
    }
   ],
   "source": [
    "vi.detectDropletOneFrame(frameNum=968, diag=True)"
   ]
  },
  {
   "cell_type": "code",
   "execution_count": 203,
   "id": "40d31a5d",
   "metadata": {},
   "outputs": [
    {
     "data": {
      "text/plain": [
       "[((556.7822875976562, 1037.4691162109375),\n",
       "  (66.49737548828125, 87.31258392333984),\n",
       "  2.0882067680358887),\n",
       " ((492.5328369140625, 803.4964599609375),\n",
       "  (71.34639739990234, 100.98430633544922),\n",
       "  178.093994140625)]"
      ]
     },
     "execution_count": 203,
     "metadata": {},
     "output_type": "execute_result"
    },
    {
     "data": {
      "image/png": "[encoded data removed]",
      "text/plain": [
       "<Figure size 720x2160 with 3 Axes>"
      ]
     },
     "metadata": {
      "needs_background": "light"
     },
     "output_type": "display_data"
    }
   ],
   "source": [
    "vi.detectDropletOneFrame(frameNum=1033, diag=True)"
   ]
  },
  {
   "cell_type": "code",
   "execution_count": 168,
   "id": "93b8b084",
   "metadata": {},
   "outputs": [
    {
     "data": {
      "text/plain": [
       "[((491.850341796875, 930.44677734375),\n",
       "  (71.4026107788086, 100.15478515625),\n",
       "  0.11205952614545822)]"
      ]
     },
     "execution_count": 168,
     "metadata": {},
     "output_type": "execute_result"
    },
    {
     "data": {
      "image/png": "[encoded data removed]",
      "text/plain": [
       "<Figure size 720x2160 with 3 Axes>"
      ]
     },
     "metadata": {
      "needs_background": "light"
     },
     "output_type": "display_data"
    }
   ],
   "source": [
    "vi.detectDropletOneFrame(frameNum=1034, diag=True)"
   ]
  },
  {
   "cell_type": "code",
   "execution_count": 169,
   "id": "ad0d36b4",
   "metadata": {},
   "outputs": [
    {
     "data": {
      "text/plain": [
       "[((489.53369140625, 985.799072265625),\n",
       "  (73.25592041015625, 89.68673706054688),\n",
       "  0.6995490789413452),\n",
       " ((219.6730194091797, 527.1865844726562),\n",
       "  (101.98743438720703, 209.23704528808594),\n",
       "  175.41336059570312)]"
      ]
     },
     "execution_count": 169,
     "metadata": {},
     "output_type": "execute_result"
    },
    {
     "data": {
      "image/png": "[encoded data removed]",
      "text/plain": [
       "<Figure size 720x2160 with 3 Axes>"
      ]
     },
     "metadata": {
      "needs_background": "light"
     },
     "output_type": "display_data"
    }
   ],
   "source": [
    "vi.detectDropletOneFrame(frameNum=1035, diag=True)"
   ]
  },
  {
   "cell_type": "code",
   "execution_count": 170,
   "id": "d87a534c",
   "metadata": {},
   "outputs": [
    {
     "data": {
      "text/plain": [
       "[((489.5310974121094, 986.162353515625),\n",
       "  (73.90874481201172, 86.44408416748047),\n",
       "  0.3301493227481842),\n",
       " ((219.83343505859375, 527.5764770507812),\n",
       "  (104.43096923828125, 195.358642578125),\n",
       "  175.43075561523438)]"
      ]
     },
     "execution_count": 170,
     "metadata": {},
     "output_type": "execute_result"
    },
    {
     "data": {
      "image/png": "[encoded data removed]",
      "text/plain": [
       "<Figure size 720x2160 with 3 Axes>"
      ]
     },
     "metadata": {
      "needs_background": "light"
     },
     "output_type": "display_data"
    }
   ],
   "source": [
    "vi.detectDropletOneFrame(frameNum=1036, diag=True)"
   ]
  },
  {
   "cell_type": "code",
   "execution_count": 117,
   "id": "2bcb70e0",
   "metadata": {},
   "outputs": [
    {
     "data": {
      "text/plain": [
       "72.7603751966611"
      ]
     },
     "execution_count": 117,
     "metadata": {},
     "output_type": "execute_result"
    }
   ],
   "source": [
    "vi.dropletTab['v'].mean()"
   ]
  },
  {
   "cell_type": "code",
   "execution_count": 118,
   "id": "32e78401",
   "metadata": {},
   "outputs": [
    {
     "name": "stderr",
     "output_type": "stream",
     "text": [
      "[autoreload of py.vidRead failed: Traceback (most recent call last):\n",
      "  File \"C:\\Users\\lmf1\\Miniconda3\\lib\\site-packages\\IPython\\extensions\\autoreload.py\", line 245, in check\n",
      "    superreload(m, reload, self.old_objects)\n",
      "  File \"C:\\Users\\lmf1\\Miniconda3\\lib\\site-packages\\IPython\\extensions\\autoreload.py\", line 394, in superreload\n",
      "    module = reload(module)\n",
      "  File \"C:\\Users\\lmf1\\Miniconda3\\lib\\imp.py\", line 314, in reload\n",
      "    return importlib.reload(module)\n",
      "  File \"C:\\Users\\lmf1\\Miniconda3\\lib\\importlib\\__init__.py\", line 169, in reload\n",
      "    _bootstrap._exec(spec, module)\n",
      "  File \"<frozen importlib._bootstrap>\", line 630, in _exec\n",
      "  File \"<frozen importlib._bootstrap_external>\", line 724, in exec_module\n",
      "  File \"<frozen importlib._bootstrap_external>\", line 860, in get_code\n",
      "  File \"<frozen importlib._bootstrap_external>\", line 791, in source_to_code\n",
      "  File \"<frozen importlib._bootstrap>\", line 219, in _call_with_frames_removed\n",
      "  File \"..\\py\\vidRead.py\", line 139\n",
      "    if self.prevDroplets['y'].min<\n",
      "                                 ^\n",
      "SyntaxError: invalid syntax\n",
      "]\n"
     ]
    },
    {
     "data": {
      "text/plain": [
       "{'x0': 271,\n",
       " 'xf': 1586,\n",
       " 'y0': 610,\n",
       " 'yf': 1882,\n",
       " 'r': 647,\n",
       " 'xc': 928,\n",
       " 'yc': 1246,\n",
       " 'xcc': 657,\n",
       " 'ycc': 636}"
      ]
     },
     "execution_count": 118,
     "metadata": {},
     "output_type": "execute_result"
    }
   ],
   "source": [
    "vi.bounds"
   ]
  },
  {
   "cell_type": "code",
   "execution_count": 119,
   "id": "ca3191b4",
   "metadata": {},
   "outputs": [
    {
     "name": "stderr",
     "output_type": "stream",
     "text": [
      "[autoreload of py.vidRead failed: Traceback (most recent call last):\n",
      "  File \"C:\\Users\\lmf1\\Miniconda3\\lib\\site-packages\\IPython\\extensions\\autoreload.py\", line 245, in check\n",
      "    superreload(m, reload, self.old_objects)\n",
      "  File \"C:\\Users\\lmf1\\Miniconda3\\lib\\site-packages\\IPython\\extensions\\autoreload.py\", line 394, in superreload\n",
      "    module = reload(module)\n",
      "  File \"C:\\Users\\lmf1\\Miniconda3\\lib\\imp.py\", line 314, in reload\n",
      "    return importlib.reload(module)\n",
      "  File \"C:\\Users\\lmf1\\Miniconda3\\lib\\importlib\\__init__.py\", line 169, in reload\n",
      "    _bootstrap._exec(spec, module)\n",
      "  File \"<frozen importlib._bootstrap>\", line 630, in _exec\n",
      "  File \"<frozen importlib._bootstrap_external>\", line 724, in exec_module\n",
      "  File \"<frozen importlib._bootstrap_external>\", line 860, in get_code\n",
      "  File \"<frozen importlib._bootstrap_external>\", line 791, in source_to_code\n",
      "  File \"<frozen importlib._bootstrap>\", line 219, in _call_with_frames_removed\n",
      "  File \"..\\py\\vidRead.py\", line 128\n",
      "    def dropletChange(self, oldrow:)\n",
      "                                   ^\n",
      "SyntaxError: invalid syntax\n",
      "]\n"
     ]
    },
    {
     "data": {
      "text/plain": [
       "pandas.core.series.Series"
      ]
     },
     "execution_count": 119,
     "metadata": {},
     "output_type": "execute_result"
    }
   ],
   "source": [
    "r = vi.dropletTab.loc[1]\n",
    "type(r)"
   ]
  },
  {
   "cell_type": "code",
   "execution_count": 123,
   "id": "074391f5",
   "metadata": {},
   "outputs": [
    {
     "data": {
      "text/plain": [
       "1124.251953125"
      ]
     },
     "execution_count": 123,
     "metadata": {},
     "output_type": "execute_result"
    }
   ],
   "source": [
    "prevYMax = vi.dropletTab['y'].idxmax()\n",
    "vi.dropletTab.loc[prevYMax, 'y']"
   ]
  },
  {
   "cell_type": "code",
   "execution_count": 124,
   "id": "2d5f7a1d",
   "metadata": {},
   "outputs": [
    {
     "ename": "TypeError",
     "evalue": "'<' not supported between instances of 'list' and 'int'",
     "output_type": "error",
     "traceback": [
      "\u001b[1;31m---------------------------------------------------------------------------\u001b[0m",
      "\u001b[1;31mTypeError\u001b[0m                                 Traceback (most recent call last)",
      "\u001b[1;32m<ipython-input-124-303e14b4d7f1>\u001b[0m in \u001b[0;36m<module>\u001b[1;34m\u001b[0m\n\u001b[0;32m      1\u001b[0m \u001b[0ml1\u001b[0m \u001b[1;33m=\u001b[0m \u001b[1;33m[\u001b[0m\u001b[1;36m2\u001b[0m\u001b[1;33m,\u001b[0m\u001b[1;36m65\u001b[0m\u001b[1;33m,\u001b[0m\u001b[1;36m7\u001b[0m\u001b[1;33m,\u001b[0m\u001b[1;36m2\u001b[0m\u001b[1;33m,\u001b[0m\u001b[1;36m1\u001b[0m\u001b[1;33m]\u001b[0m\u001b[1;33m\u001b[0m\u001b[1;33m\u001b[0m\u001b[0m\n\u001b[1;32m----> 2\u001b[1;33m \u001b[0ml1\u001b[0m\u001b[1;33m<\u001b[0m\u001b[1;36m3\u001b[0m\u001b[1;33m\u001b[0m\u001b[1;33m\u001b[0m\u001b[0m\n\u001b[0m",
      "\u001b[1;31mTypeError\u001b[0m: '<' not supported between instances of 'list' and 'int'"
     ]
    }
   ],
   "source": [
    "l1 = [2,65,7,2,1]\n",
    "l1<3"
   ]
  },
  {
   "cell_type": "code",
   "execution_count": 129,
   "id": "61834f10",
   "metadata": {},
   "outputs": [
    {
     "data": {
      "text/plain": [
       "3"
      ]
     },
     "execution_count": 129,
     "metadata": {},
     "output_type": "execute_result"
    }
   ],
   "source": [
    "l1 = [False, False, True, True]\n",
    "dt = vi.dropletTab.loc[0:3]\n",
    "dred = dt.loc[l1]\n",
    "dred.iloc[1].name"
   ]
  },
  {
   "cell_type": "code",
   "execution_count": 180,
   "id": "87a549e1",
   "metadata": {},
   "outputs": [
    {
     "data": {
      "text/plain": [
       "2"
      ]
     },
     "execution_count": 180,
     "metadata": {},
     "output_type": "execute_result"
    }
   ],
   "source": [
    "dred[dred['dropNum']==0].iloc[0].name"
   ]
  },
  {
   "cell_type": "code",
   "execution_count": 183,
   "id": "d9ce6bc7",
   "metadata": {},
   "outputs": [
    {
     "data": {
      "text/plain": [
       "Int64Index([2, 3], dtype='int64')"
      ]
     },
     "execution_count": 183,
     "metadata": {},
     "output_type": "execute_result"
    }
   ],
   "source": [
    "dred.index"
   ]
  },
  {
   "cell_type": "code",
   "execution_count": 233,
   "id": "7bbd2475",
   "metadata": {},
   "outputs": [],
   "source": [
    "d1 = d0[(d0['frame']<2)|(d0['frame']>1060)]"
   ]
  },
  {
   "cell_type": "code",
   "execution_count": 241,
   "id": "dce79469",
   "metadata": {},
   "outputs": [
    {
     "data": {
      "text/html": [
       "<div>\n",
       "<style scoped>\n",
       "    .dataframe tbody tr th:only-of-type {\n",
       "        vertical-align: middle;\n",
       "    }\n",
       "\n",
       "    .dataframe tbody tr th {\n",
       "        vertical-align: top;\n",
       "    }\n",
       "\n",
       "    .dataframe thead th {\n",
       "        text-align: right;\n",
       "    }\n",
       "</style>\n",
       "<table border=\"1\" class=\"dataframe\">\n",
       "  <thead>\n",
       "    <tr style=\"text-align: right;\">\n",
       "      <th></th>\n",
       "      <th>frame</th>\n",
       "      <th>time</th>\n",
       "      <th>dropNum</th>\n",
       "      <th>x</th>\n",
       "      <th>y</th>\n",
       "      <th>dpos</th>\n",
       "      <th>v</th>\n",
       "      <th>w</th>\n",
       "      <th>l</th>\n",
       "      <th>angle</th>\n",
       "    </tr>\n",
       "  </thead>\n",
       "  <tbody>\n",
       "    <tr>\n",
       "      <th>792</th>\n",
       "      <td>1060.0</td>\n",
       "      <td>21.20</td>\n",
       "      <td>19</td>\n",
       "      <td>834.426025</td>\n",
       "      <td>903.558472</td>\n",
       "      <td>-173.192</td>\n",
       "      <td>-8659.59</td>\n",
       "      <td>81.532928</td>\n",
       "      <td>108.825516</td>\n",
       "      <td>3.180353</td>\n",
       "    </tr>\n",
       "    <tr>\n",
       "      <th>793</th>\n",
       "      <td>1061.0</td>\n",
       "      <td>21.22</td>\n",
       "      <td>19</td>\n",
       "      <td>828.482910</td>\n",
       "      <td>727.884094</td>\n",
       "      <td>-175.775</td>\n",
       "      <td>-8788.74</td>\n",
       "      <td>79.735794</td>\n",
       "      <td>107.687126</td>\n",
       "      <td>175.955460</td>\n",
       "    </tr>\n",
       "    <tr>\n",
       "      <th>794</th>\n",
       "      <td>1062.0</td>\n",
       "      <td>100.00</td>\n",
       "      <td>19</td>\n",
       "      <td>815.008667</td>\n",
       "      <td>553.108704</td>\n",
       "      <td>-175.294</td>\n",
       "      <td>-8764.7</td>\n",
       "      <td>79.850609</td>\n",
       "      <td>107.526505</td>\n",
       "      <td>173.222305</td>\n",
       "    </tr>\n",
       "    <tr>\n",
       "      <th>795</th>\n",
       "      <td>1063.0</td>\n",
       "      <td>21.26</td>\n",
       "      <td>19</td>\n",
       "      <td>792.498840</td>\n",
       "      <td>376.704620</td>\n",
       "      <td>-177.834</td>\n",
       "      <td>-8891.72</td>\n",
       "      <td>80.008804</td>\n",
       "      <td>107.054138</td>\n",
       "      <td>170.428741</td>\n",
       "    </tr>\n",
       "    <tr>\n",
       "      <th>796</th>\n",
       "      <td>1064.0</td>\n",
       "      <td>21.28</td>\n",
       "      <td>19</td>\n",
       "      <td>762.031311</td>\n",
       "      <td>199.569794</td>\n",
       "      <td>-179.736</td>\n",
       "      <td>-8986.8</td>\n",
       "      <td>80.878311</td>\n",
       "      <td>107.579628</td>\n",
       "      <td>168.015106</td>\n",
       "    </tr>\n",
       "  </tbody>\n",
       "</table>\n",
       "</div>"
      ],
      "text/plain": [
       "      frame    time dropNum           x           y     dpos        v  \\\n",
       "792  1060.0   21.20      19  834.426025  903.558472 -173.192 -8659.59   \n",
       "793  1061.0   21.22      19  828.482910  727.884094 -175.775 -8788.74   \n",
       "794  1062.0  100.00      19  815.008667  553.108704 -175.294  -8764.7   \n",
       "795  1063.0   21.26      19  792.498840  376.704620 -177.834 -8891.72   \n",
       "796  1064.0   21.28      19  762.031311  199.569794 -179.736  -8986.8   \n",
       "\n",
       "             w           l       angle  \n",
       "792  81.532928  108.825516    3.180353  \n",
       "793  79.735794  107.687126  175.955460  \n",
       "794  79.850609  107.526505  173.222305  \n",
       "795  80.008804  107.054138  170.428741  \n",
       "796  80.878311  107.579628  168.015106  "
      ]
     },
     "execution_count": 241,
     "metadata": {},
     "output_type": "execute_result"
    }
   ],
   "source": [
    "mask = d0['time']==21.24\n",
    "d0.loc[mask, 'time'] = 100\n",
    "d0"
   ]
  },
  {
   "cell_type": "code",
   "execution_count": 237,
   "id": "0423dd15",
   "metadata": {},
   "outputs": [
    {
     "data": {
      "text/html": [
       "<div>\n",
       "<style scoped>\n",
       "    .dataframe tbody tr th:only-of-type {\n",
       "        vertical-align: middle;\n",
       "    }\n",
       "\n",
       "    .dataframe tbody tr th {\n",
       "        vertical-align: top;\n",
       "    }\n",
       "\n",
       "    .dataframe thead th {\n",
       "        text-align: right;\n",
       "    }\n",
       "</style>\n",
       "<table border=\"1\" class=\"dataframe\">\n",
       "  <thead>\n",
       "    <tr style=\"text-align: right;\">\n",
       "      <th></th>\n",
       "      <th>frame</th>\n",
       "      <th>time</th>\n",
       "      <th>dropNum</th>\n",
       "      <th>x</th>\n",
       "      <th>y</th>\n",
       "      <th>dpos</th>\n",
       "      <th>v</th>\n",
       "      <th>w</th>\n",
       "      <th>l</th>\n",
       "      <th>angle</th>\n",
       "    </tr>\n",
       "  </thead>\n",
       "  <tbody>\n",
       "    <tr>\n",
       "      <th>793</th>\n",
       "      <td>1061.0</td>\n",
       "      <td>21.22</td>\n",
       "      <td>19</td>\n",
       "      <td>828.482910</td>\n",
       "      <td>727.884094</td>\n",
       "      <td>-175.775</td>\n",
       "      <td>-8788.74</td>\n",
       "      <td>79.735794</td>\n",
       "      <td>107.687126</td>\n",
       "      <td>175.955460</td>\n",
       "    </tr>\n",
       "    <tr>\n",
       "      <th>794</th>\n",
       "      <td>1062.0</td>\n",
       "      <td>21.24</td>\n",
       "      <td>19</td>\n",
       "      <td>815.008667</td>\n",
       "      <td>553.108704</td>\n",
       "      <td>-175.294</td>\n",
       "      <td>-8764.7</td>\n",
       "      <td>79.850609</td>\n",
       "      <td>107.526505</td>\n",
       "      <td>173.222305</td>\n",
       "    </tr>\n",
       "    <tr>\n",
       "      <th>795</th>\n",
       "      <td>1063.0</td>\n",
       "      <td>21.26</td>\n",
       "      <td>19</td>\n",
       "      <td>792.498840</td>\n",
       "      <td>376.704620</td>\n",
       "      <td>-177.834</td>\n",
       "      <td>-8891.72</td>\n",
       "      <td>80.008804</td>\n",
       "      <td>107.054138</td>\n",
       "      <td>170.428741</td>\n",
       "    </tr>\n",
       "    <tr>\n",
       "      <th>796</th>\n",
       "      <td>1064.0</td>\n",
       "      <td>21.28</td>\n",
       "      <td>19</td>\n",
       "      <td>762.031311</td>\n",
       "      <td>199.569794</td>\n",
       "      <td>-179.736</td>\n",
       "      <td>-8986.8</td>\n",
       "      <td>80.878311</td>\n",
       "      <td>107.579628</td>\n",
       "      <td>168.015106</td>\n",
       "    </tr>\n",
       "  </tbody>\n",
       "</table>\n",
       "</div>"
      ],
      "text/plain": [
       "      frame   time dropNum           x           y     dpos        v  \\\n",
       "793  1061.0  21.22      19  828.482910  727.884094 -175.775 -8788.74   \n",
       "794  1062.0  21.24      19  815.008667  553.108704 -175.294  -8764.7   \n",
       "795  1063.0  21.26      19  792.498840  376.704620 -177.834 -8891.72   \n",
       "796  1064.0  21.28      19  762.031311  199.569794 -179.736  -8986.8   \n",
       "\n",
       "             w           l       angle  \n",
       "793  79.735794  107.687126  175.955460  \n",
       "794  79.850609  107.526505  173.222305  \n",
       "795  80.008804  107.054138  170.428741  \n",
       "796  80.878311  107.579628  168.015106  "
      ]
     },
     "execution_count": 237,
     "metadata": {},
     "output_type": "execute_result"
    }
   ],
   "source": [
    "d1"
   ]
  },
  {
   "cell_type": "code",
   "execution_count": null,
   "id": "91f37178",
   "metadata": {},
   "outputs": [],
   "source": []
  }
 ],
 "metadata": {
  "kernelspec": {
   "display_name": "Python 3",
   "language": "python",
   "name": "python3"
  },
  "language_info": {
   "codemirror_mode": {
    "name": "ipython",
    "version": 3
   },
   "file_extension": ".py",
   "mimetype": "text/x-python",
   "name": "python",
   "nbconvert_exporter": "python",
   "pygments_lexer": "ipython3",
   "version": "3.7.7"
  }
 },
 "nbformat": 4,
 "nbformat_minor": 5
}
